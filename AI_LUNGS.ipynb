{
  "nbformat": 4,
  "nbformat_minor": 0,
  "metadata": {
    "colab": {
      "name": "AI_LUNGS",
      "provenance": [],
      "collapsed_sections": [
        "uMYVl1VUheia",
        "V552giogaaDr",
        "th6f64AKa4bu",
        "RWZjvNF0berW",
        "DGXwENXUeTHS",
        "Nqs4a5aS3L52",
        "VTEB0bMXfJdy",
        "Pdik0AI4f1Yu",
        "-KMfKwHQhCVG"
      ],
      "toc_visible": true
    },
    "kernelspec": {
      "name": "python3",
      "display_name": "Python 3"
    },
    "accelerator": "TPU"
  },
  "cells": [
    {
      "cell_type": "markdown",
      "metadata": {
        "id": "uMYVl1VUheia"
      },
      "source": [
        "## Importing libraries and datasets"
      ]
    },
    {
      "cell_type": "code",
      "metadata": {
        "id": "Q7UBOcKSq5dj"
      },
      "source": [
        "import matplotlib.pyplot as plt\n",
        "import numpy as np\n",
        "import os\n",
        "import PIL\n",
        "import tensorflow as tf\n",
        "import pathlib\n",
        "from tensorflow import keras\n",
        "from tensorflow.keras import layers\n",
        "from sklearn.model_selection import train_test_split\n",
        "from tensorflow.keras.models import Sequential\n"
      ],
      "execution_count": null,
      "outputs": []
    },
    {
      "cell_type": "code",
      "metadata": {
        "id": "1t10u_YSu18X"
      },
      "source": [
        "teste = pathlib.Path('/content/drive/My Drive/Pulmão/chest_xray/test')\n",
        "treino = pathlib.Path('/content/drive/My Drive/Pulmão/chest_xray/train')\n",
        "val = pathlib.Path('/content/drive/My Drive/Pulmão/chest_xray/val')"
      ],
      "execution_count": null,
      "outputs": []
    },
    {
      "cell_type": "markdown",
      "metadata": {
        "id": "V552giogaaDr"
      },
      "source": [
        "## We will now count how many images we have in the training and test parts"
      ]
    },
    {
      "cell_type": "code",
      "metadata": {
        "id": "JTzNzEOjx_kZ",
        "outputId": "3efb9d67-0979-46ce-ee67-e99fdd36d65b",
        "colab": {
          "base_uri": "https://localhost:8080/",
          "height": 34
        }
      },
      "source": [
        "image_count = len(list(treino.glob('*/*.jpeg')))\n",
        "image_count"
      ],
      "execution_count": null,
      "outputs": [
        {
          "output_type": "execute_result",
          "data": {
            "text/plain": [
              "5216"
            ]
          },
          "metadata": {
            "tags": []
          },
          "execution_count": 4
        }
      ]
    },
    {
      "cell_type": "code",
      "metadata": {
        "id": "Fcj8kLDeUgMb",
        "outputId": "69c32071-622a-401e-9187-0bde2e94c7fc",
        "colab": {
          "base_uri": "https://localhost:8080/",
          "height": 34
        }
      },
      "source": [
        "val_count = len(list(val.glob('*/*.jpeg')))\n",
        "val_count"
      ],
      "execution_count": null,
      "outputs": [
        {
          "output_type": "execute_result",
          "data": {
            "text/plain": [
              "16"
            ]
          },
          "metadata": {
            "tags": []
          },
          "execution_count": 5
        }
      ]
    },
    {
      "cell_type": "markdown",
      "metadata": {
        "id": "th6f64AKa4bu"
      },
      "source": [
        "## Now we will quantify how many images we have of a healthy lung and one with pneumonia"
      ]
    },
    {
      "cell_type": "code",
      "metadata": {
        "id": "dJn_r9HHy5DI"
      },
      "source": [
        "treino_normal_count = len(list(treino.glob('*NORMAL/*.jpeg')))\n",
        "treino_infec_count = len(list(treino.glob('*PNEUMONIA/*.jpeg')))"
      ],
      "execution_count": null,
      "outputs": []
    },
    {
      "cell_type": "code",
      "metadata": {
        "id": "BYpHnmwFLmUr",
        "outputId": "19443542-cc3d-4826-ad46-dedcf4af0bdc",
        "colab": {
          "base_uri": "https://localhost:8080/"
        }
      },
      "source": [
        "treino_infec_count"
      ],
      "execution_count": null,
      "outputs": [
        {
          "output_type": "execute_result",
          "data": {
            "text/plain": [
              "3875"
            ]
          },
          "metadata": {
            "tags": []
          },
          "execution_count": 6
        }
      ]
    },
    {
      "cell_type": "code",
      "metadata": {
        "id": "UdB5_BSCLubE",
        "outputId": "1e1cbebb-a8c4-4a58-8940-07b172022637",
        "colab": {
          "base_uri": "https://localhost:8080/"
        }
      },
      "source": [
        "treino_normal_count"
      ],
      "execution_count": null,
      "outputs": [
        {
          "output_type": "execute_result",
          "data": {
            "text/plain": [
              "1341"
            ]
          },
          "metadata": {
            "tags": []
          },
          "execution_count": 7
        }
      ]
    },
    {
      "cell_type": "markdown",
      "metadata": {
        "id": "RWZjvNF0berW"
      },
      "source": [
        "## Loading the images using keras.preprocessing"
      ]
    },
    {
      "cell_type": "code",
      "metadata": {
        "id": "kATEBiIUIz9V"
      },
      "source": [
        "batch_size = 32\n",
        "img_height = 180\n",
        "img_width = 180\n",
        "AUTOTUNE = tf.data.experimental.AUTOTUNE"
      ],
      "execution_count": null,
      "outputs": []
    },
    {
      "cell_type": "code",
      "metadata": {
        "id": "OHQ8eoOmtY8Z",
        "outputId": "f05b5440-eb37-437e-f900-5a53cff53e7b",
        "colab": {
          "base_uri": "https://localhost:8080/"
        }
      },
      "source": [
        "treino_ds = tf.keras.preprocessing.image_dataset_from_directory(\n",
        "  treino,\n",
        "  validation_split=0.3,\n",
        "  subset=\"training\",\n",
        "  color_mode= 'grayscale',\n",
        "  seed=123,\n",
        "  image_size=(img_height, img_width),\n",
        "  batch_size=batch_size)"
      ],
      "execution_count": null,
      "outputs": [
        {
          "output_type": "stream",
          "text": [
            "Found 5216 files belonging to 2 classes.\n",
            "Using 3652 files for training.\n"
          ],
          "name": "stdout"
        }
      ]
    },
    {
      "cell_type": "code",
      "metadata": {
        "id": "TSgFqBnawbqn",
        "outputId": "d5036099-5037-4fa3-e767-1ff053d914b3",
        "colab": {
          "base_uri": "https://localhost:8080/"
        }
      },
      "source": [
        "valida_ds = tf.keras.preprocessing.image_dataset_from_directory(\n",
        "  treino,\n",
        "  validation_split=0.3,\n",
        "  subset=\"validation\",\n",
        "  color_mode= 'grayscale',\n",
        "  seed=123,\n",
        "  image_size=(img_height, img_width),\n",
        "  batch_size=batch_size)"
      ],
      "execution_count": null,
      "outputs": [
        {
          "output_type": "stream",
          "text": [
            "Found 5216 files belonging to 2 classes.\n",
            "Using 1564 files for validation.\n"
          ],
          "name": "stdout"
        }
      ]
    },
    {
      "cell_type": "code",
      "metadata": {
        "id": "ZOj6-RQPxFJM",
        "outputId": "b05ea665-cee0-4e12-f0a4-33cdc4505668",
        "colab": {
          "base_uri": "https://localhost:8080/",
          "height": 34
        }
      },
      "source": [
        "class_names = treino_ds.class_names\n",
        "class_names"
      ],
      "execution_count": null,
      "outputs": [
        {
          "output_type": "execute_result",
          "data": {
            "text/plain": [
              "['NORMAL', 'PNEUMONIA']"
            ]
          },
          "metadata": {
            "tags": []
          },
          "execution_count": 12
        }
      ]
    },
    {
      "cell_type": "markdown",
      "metadata": {
        "id": "DGXwENXUeTHS"
      },
      "source": [
        "## Configurando a performance do dataset\n",
        "\n",
        "---\n",
        "[https://www.tensorflow.org/guide/data_performance#prefetching](https://)\n"
      ]
    },
    {
      "cell_type": "code",
      "metadata": {
        "id": "A7QWaqm6xKcf"
      },
      "source": [
        "treino_ds = treino_ds.cache().shuffle(1000).prefetch(buffer_size=AUTOTUNE)\n",
        "valida_ds = valida_ds.cache().prefetch(buffer_size=AUTOTUNE)"
      ],
      "execution_count": null,
      "outputs": []
    },
    {
      "cell_type": "markdown",
      "metadata": {
        "id": "Nqs4a5aS3L52"
      },
      "source": [
        "## Now we will insert the layers for networking",
        "\n",
        "---\n",
        "\n",
        "\n",
        "\n",
        "https://bit.ly/31tYXyW\n",
        "\n",
        "---\n",
        "![1_JSnKtzEgiHd4p6UlNv_C7w.png](data:image/png;base64,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)\n"
      ]
    },
    {
      "cell_type": "code",
      "metadata": {
        "id": "ZWU6SVmAzr8r"
      },
      "source": [
        "num_classes = 5\n",
        "\n",
        "model = Sequential([\n",
        "  layers.experimental.preprocessing.Rescaling(1./255, input_shape=(img_height, img_width, 1)),\n",
        "  layers.Conv2D(16, 3, padding='same', activation='relu'),\n",
        "  layers.MaxPooling2D(),\n",
        "  layers.Conv2D(32, 3, padding='same', activation='relu'),\n",
        "  layers.MaxPooling2D(),\n",
        "  layers.Conv2D(64, 3, padding='same', activation='relu'),\n",
        "  layers.MaxPooling2D(),\n",
        "  layers.Dropout(0.2),\n",
        "  layers.Flatten(),\n",
        "  layers.Dense(128, activation='relu'),\n",
        "  layers.Dense(num_classes)\n",
        "])"
      ],
      "execution_count": null,
      "outputs": []
    },
    {
      "cell_type": "markdown",
      "metadata": {
        "id": "VTEB0bMXfJdy"
      },
      "source": [
        "## Compiling the model and preparing it"
      ]
    },
    {
      "cell_type": "code",
      "metadata": {
        "id": "gmdkCBNL5HUx"
      },
      "source": [
        "model.compile(optimizer='adam',\n",
        "              loss=tf.keras.losses.SparseCategoricalCrossentropy(from_logits=True),\n",
        "              metrics=['accuracy'])"
      ],
      "execution_count": null,
      "outputs": []
    },
    {
      "cell_type": "code",
      "metadata": {
        "id": "YSNvfHw79axa",
        "outputId": "20814508-9deb-4240-ed08-f071fab349a8",
        "colab": {
          "base_uri": "https://localhost:8080/",
          "height": 527
        }
      },
      "source": [
        "model.summary()"
      ],
      "execution_count": null,
      "outputs": [
        {
          "output_type": "stream",
          "text": [
            "Model: \"sequential_1\"\n",
            "_________________________________________________________________\n",
            "Layer (type)                 Output Shape              Param #   \n",
            "=================================================================\n",
            "rescaling_3 (Rescaling)      (None, 180, 180, 1)       0         \n",
            "_________________________________________________________________\n",
            "conv2d_6 (Conv2D)            (None, 180, 180, 16)      160       \n",
            "_________________________________________________________________\n",
            "max_pooling2d_6 (MaxPooling2 (None, 90, 90, 16)        0         \n",
            "_________________________________________________________________\n",
            "conv2d_7 (Conv2D)            (None, 90, 90, 32)        4640      \n",
            "_________________________________________________________________\n",
            "max_pooling2d_7 (MaxPooling2 (None, 45, 45, 32)        0         \n",
            "_________________________________________________________________\n",
            "conv2d_8 (Conv2D)            (None, 45, 45, 64)        18496     \n",
            "_________________________________________________________________\n",
            "max_pooling2d_8 (MaxPooling2 (None, 22, 22, 64)        0         \n",
            "_________________________________________________________________\n",
            "dropout (Dropout)            (None, 22, 22, 64)        0         \n",
            "_________________________________________________________________\n",
            "flatten_1 (Flatten)          (None, 30976)             0         \n",
            "_________________________________________________________________\n",
            "dense_2 (Dense)              (None, 128)               3965056   \n",
            "_________________________________________________________________\n",
            "dense_3 (Dense)              (None, 5)                 645       \n",
            "=================================================================\n",
            "Total params: 3,988,997\n",
            "Trainable params: 3,988,997\n",
            "Non-trainable params: 0\n",
            "_________________________________________________________________\n"
          ],
          "name": "stdout"
        }
      ]
    },
    {
      "cell_type": "code",
      "metadata": {
        "id": "vB6EnplP9hzq",
        "outputId": "1095ca4d-49c0-4e70-b330-76d3ca5b4889",
        "colab": {
          "base_uri": "https://localhost:8080/",
          "height": 357
        }
      },
      "source": [
        "epochs=10\n",
        "history = model.fit(\n",
        "  treino_ds,\n",
        "  validation_data=valida_ds,\n",
        "  epochs=epochs\n",
        ")"
      ],
      "execution_count": null,
      "outputs": [
        {
          "output_type": "stream",
          "text": [
            "Epoch 1/10\n",
            "115/115 [==============================] - 109s 949ms/step - loss: 0.2831 - accuracy: 0.8760 - val_loss: 0.1061 - val_accuracy: 0.9687\n",
            "Epoch 2/10\n",
            "115/115 [==============================] - 107s 928ms/step - loss: 0.1043 - accuracy: 0.9633 - val_loss: 0.1117 - val_accuracy: 0.9508\n",
            "Epoch 3/10\n",
            "115/115 [==============================] - 108s 940ms/step - loss: 0.0841 - accuracy: 0.9669 - val_loss: 0.0922 - val_accuracy: 0.9616\n",
            "Epoch 4/10\n",
            "115/115 [==============================] - 105s 917ms/step - loss: 0.0790 - accuracy: 0.9734 - val_loss: 0.0901 - val_accuracy: 0.9642\n",
            "Epoch 5/10\n",
            "115/115 [==============================] - 108s 935ms/step - loss: 0.0569 - accuracy: 0.9800 - val_loss: 0.0768 - val_accuracy: 0.9731\n",
            "Epoch 6/10\n",
            "115/115 [==============================] - 107s 932ms/step - loss: 0.0404 - accuracy: 0.9860 - val_loss: 0.0805 - val_accuracy: 0.9719\n",
            "Epoch 7/10\n",
            "115/115 [==============================] - 105s 915ms/step - loss: 0.0360 - accuracy: 0.9869 - val_loss: 0.0665 - val_accuracy: 0.9776\n",
            "Epoch 8/10\n",
            "115/115 [==============================] - 107s 928ms/step - loss: 0.0231 - accuracy: 0.9915 - val_loss: 0.0730 - val_accuracy: 0.9789\n",
            "Epoch 9/10\n",
            "115/115 [==============================] - 110s 956ms/step - loss: 0.0131 - accuracy: 0.9948 - val_loss: 0.0727 - val_accuracy: 0.9757\n",
            "Epoch 10/10\n",
            "115/115 [==============================] - 110s 956ms/step - loss: 0.0196 - accuracy: 0.9923 - val_loss: 0.1218 - val_accuracy: 0.9668\n"
          ],
          "name": "stdout"
        }
      ]
    },
    {
      "cell_type": "markdown",
      "metadata": {
        "id": "Pdik0AI4f1Yu"
      },
      "source": [
        "## Testing its accuracy and its distribution"
      ]
    },
    {
      "cell_type": "code",
      "metadata": {
        "id": "dOcjMzZQLoQW",
        "outputId": "951c107e-6b15-4d57-842f-1dbc34f40d8e",
        "colab": {
          "base_uri": "https://localhost:8080/",
          "height": 499
        }
      },
      "source": [
        "acc = history.history['accuracy']\n",
        "val_acc = history.history['val_accuracy']\n",
        "\n",
        "loss=history.history['loss']\n",
        "val_loss=history.history['val_loss']\n",
        "\n",
        "epochs_range = range(epochs)\n",
        "\n",
        "plt.figure(figsize=(8, 8))\n",
        "plt.subplot(1, 2, 1)\n",
        "plt.plot(epochs_range, acc, label='Training Accuracy')\n",
        "plt.plot(epochs_range, val_acc, label='Validation Accuracy')\n",
        "plt.legend(loc='lower right')\n",
        "plt.title('Training and Validation Accuracy')\n",
        "\n",
        "plt.subplot(1, 2, 2)\n",
        "plt.plot(epochs_range, loss, label='Training Loss')\n",
        "plt.plot(epochs_range, val_loss, label='Validation Loss')\n",
        "plt.legend(loc='upper right')\n",
        "plt.title('Training and Validation Loss')\n",
        "plt.show()"
      ],
      "execution_count": null,
      "outputs": [
        {
          "output_type": "display_data",
          "data": {
            "image/png": "[encoded data removed]",
            "text/plain": [
              "<Figure size 576x576 with 2 Axes>"
            ]
          },
          "metadata": {
            "tags": [],
            "needs_background": "light"
          }
        }
      ]
    },
    {
      "cell_type": "markdown",
      "metadata": {
        "id": "-KMfKwHQhCVG"
      },
      "source": [
        "## Iremos agora fazer um pequeno teste de predição"
      ]
    },
    {
      "cell_type": "code",
      "metadata": {
        "id": "zs7Tq2ShOHLY"
      },
      "source": [
        "img = keras.preprocessing.image.load_img('/content/drive/My Drive/Pulmão/chest_xray/chest_xray/val/PNEUMONIA/person1946_bacteria_4874.jpeg', target_size= (img_height, img_width), color_mode='grayscale', )\n",
        "\n",
        "img_array = keras.preprocessing.image.img_to_array(img)\n",
        "img_array = tf.expand_dims(img_array, 0)\n",
        "\n",
        "predictions = model.predict(img_array)\n",
        "\n",
        "score = tf.nn.softmax(predictions[0])"
      ],
      "execution_count": null,
      "outputs": []
    },
    {
      "cell_type": "code",
      "metadata": {
        "id": "iMZMk_Fohkl7",
        "outputId": "a5e033fe-83ce-4aa0-ef7d-3ee2eec1b556",
        "colab": {
          "base_uri": "https://localhost:8080/",
          "height": 34
        }
      },
      "source": [
        "print(\n",
        "    \"Essa imagem pertence ao grupo {} com uma confiança de {:.2f}\"\n",
        "    .format(class_names[np.argmax(score)], 100 * np.max(score))\n",
        ")"
      ],
      "execution_count": null,
      "outputs": [
        {
          "output_type": "stream",
          "text": [
            "Essa imagem pertence ao grupo PNEUMONIA com uma confiança de 100.00\n"
          ],
          "name": "stdout"
        }
      ]
    }
  ]
}
